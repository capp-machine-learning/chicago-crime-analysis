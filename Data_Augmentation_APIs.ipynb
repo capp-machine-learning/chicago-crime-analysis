{
 "cells": [
  {
   "cell_type": "markdown",
   "metadata": {},
   "source": [
    "## Chicago Crime Analysis\n",
    "\n",
    "This problem deals with crime reporting data from Chicago. Your task is to download data about Crime Reports from the Chicago Open Data Portal and analyze it to better understand what type of crimes get reported in what (type of) neighborhoods.\n",
    "\n",
    "1. Download reported crime data from the Chicago open data portal for 2017 and 2018.\n",
    "\n",
    "2. Generate summary statistics for the crime reports data including but not limited to number of crimes of each type, how they change over time, and how they are different by neighborhood. Please use a combination of tables and graphs to present these summary stats."
   ]
  },
  {
   "cell_type": "markdown",
   "metadata": {},
   "source": [
    "__Import Modules__"
   ]
  },
  {
   "cell_type": "code",
   "execution_count": 1,
   "metadata": {},
   "outputs": [],
   "source": [
    "import cenpy as c\n",
    "import pandas as pd\n",
    "import geopandas as gpd\n",
    "from shapely.geometry import Point\n",
    "import seaborn as sns\n",
    "from dateutil.parser import parse\n",
    "import matplotlib\n",
    "import matplotlib.pyplot as plt\n",
    "matplotlib.style.use(\"ggplot\")\n",
    "%matplotlib inline"
   ]
  },
  {
   "cell_type": "markdown",
   "metadata": {},
   "source": [
    "__Data Preprocessing__"
   ]
  },
  {
   "cell_type": "code",
   "execution_count": 2,
   "metadata": {},
   "outputs": [],
   "source": [
    "# Read the downloaded datasets and concatenate into one dataset: crime_df\n",
    "\n",
    "crime_17_df = pd.read_csv(\"data/chicago_crime_2017.csv\")\n",
    "crime_18_df = pd.read_csv(\"data/chicago_crime_2018.csv\")\n",
    "crime_df = pd.concat([crime_17_df, crime_18_df])\n",
    "\n",
    "# Drop all rows with NAs in Latitude and Longitude\n",
    "\n",
    "crime_df = crime_df.dropna(subset=[\"Latitude\", \"Longitude\"])"
   ]
  },
  {
   "cell_type": "code",
   "execution_count": 3,
   "metadata": {},
   "outputs": [],
   "source": [
    "#Create a Geopandas dataframe using Lat. and Lon. from crime_df: crime_gdf\n",
    "crime_df[\"Coordinates\"] = list(zip(crime_df.Longitude, crime_df.Latitude))\n",
    "crime_df[\"Coordinates\"] = crime_df[\"Coordinates\"].apply(Point)\n",
    "crime_gdf = gpd.GeoDataFrame(crime_df, geometry=\"Coordinates\")\n",
    "crime_gdf = crime_gdf[[\"Date\", \"Block\", \"Primary Type\", \"Community Area\", \"Year\", \"Coordinates\"]]\n",
    "crime_gdf.crs = {\"init\":\"epsg:4326\"}"
   ]
  },
  {
   "cell_type": "markdown",
   "metadata": {},
   "source": [
    "Generate summary statistics for the crime reports data including but not limited to number of crimes of each type, how they change over time, and how they are different by neighborhood. Please use a combination of tables and graphs to present these summary stats."
   ]
  },
  {
   "cell_type": "markdown",
   "metadata": {},
   "source": [
    "1. The number of crimes of each type:"
   ]
  },
  {
   "cell_type": "code",
   "execution_count": 5,
   "metadata": {},
   "outputs": [],
   "source": [
    "type_cnt_df = crime_gdf.groupby([\"Primary Type\", \"Year\"]).size().to_frame(\"Count\")\n",
    "type_cnt_df[\"Total\"] = type_cnt_df.groupby(level=0)[\"Count\"].transform(\"sum\")\n",
    "type_cnt_df = type_cnt_df.sort_values([\"Total\", \"Year\"], ascending=False)"
   ]
  },
  {
   "cell_type": "code",
   "execution_count": 6,
   "metadata": {},
   "outputs": [
    {
     "data": {
      "text/html": [
       "<div>\n",
       "<style scoped>\n",
       "    .dataframe tbody tr th:only-of-type {\n",
       "        vertical-align: middle;\n",
       "    }\n",
       "\n",
       "    .dataframe tbody tr th {\n",
       "        vertical-align: top;\n",
       "    }\n",
       "\n",
       "    .dataframe thead th {\n",
       "        text-align: right;\n",
       "    }\n",
       "</style>\n",
       "<table border=\"1\" class=\"dataframe\">\n",
       "  <thead>\n",
       "    <tr style=\"text-align: right;\">\n",
       "      <th></th>\n",
       "      <th></th>\n",
       "      <th>Count</th>\n",
       "      <th>Total</th>\n",
       "    </tr>\n",
       "    <tr>\n",
       "      <th>Primary Type</th>\n",
       "      <th>Year</th>\n",
       "      <th></th>\n",
       "      <th></th>\n",
       "    </tr>\n",
       "  </thead>\n",
       "  <tbody>\n",
       "    <tr>\n",
       "      <th rowspan=\"2\" valign=\"top\">THEFT</th>\n",
       "      <th>2018</th>\n",
       "      <td>64024</td>\n",
       "      <td>127610</td>\n",
       "    </tr>\n",
       "    <tr>\n",
       "      <th>2017</th>\n",
       "      <td>63586</td>\n",
       "      <td>127610</td>\n",
       "    </tr>\n",
       "    <tr>\n",
       "      <th rowspan=\"2\" valign=\"top\">BATTERY</th>\n",
       "      <th>2018</th>\n",
       "      <td>49720</td>\n",
       "      <td>98857</td>\n",
       "    </tr>\n",
       "    <tr>\n",
       "      <th>2017</th>\n",
       "      <td>49137</td>\n",
       "      <td>98857</td>\n",
       "    </tr>\n",
       "    <tr>\n",
       "      <th rowspan=\"2\" valign=\"top\">CRIMINAL DAMAGE</th>\n",
       "      <th>2018</th>\n",
       "      <td>27700</td>\n",
       "      <td>56655</td>\n",
       "    </tr>\n",
       "    <tr>\n",
       "      <th>2017</th>\n",
       "      <td>28955</td>\n",
       "      <td>56655</td>\n",
       "    </tr>\n",
       "    <tr>\n",
       "      <th rowspan=\"2\" valign=\"top\">ASSAULT</th>\n",
       "      <th>2018</th>\n",
       "      <td>20342</td>\n",
       "      <td>39594</td>\n",
       "    </tr>\n",
       "    <tr>\n",
       "      <th>2017</th>\n",
       "      <td>19252</td>\n",
       "      <td>39594</td>\n",
       "    </tr>\n",
       "    <tr>\n",
       "      <th rowspan=\"2\" valign=\"top\">DECEPTIVE PRACTICE</th>\n",
       "      <th>2018</th>\n",
       "      <td>17863</td>\n",
       "      <td>35631</td>\n",
       "    </tr>\n",
       "    <tr>\n",
       "      <th>2017</th>\n",
       "      <td>17768</td>\n",
       "      <td>35631</td>\n",
       "    </tr>\n",
       "    <tr>\n",
       "      <th rowspan=\"2\" valign=\"top\">OTHER OFFENSE</th>\n",
       "      <th>2018</th>\n",
       "      <td>16970</td>\n",
       "      <td>33935</td>\n",
       "    </tr>\n",
       "    <tr>\n",
       "      <th>2017</th>\n",
       "      <td>16965</td>\n",
       "      <td>33935</td>\n",
       "    </tr>\n",
       "    <tr>\n",
       "      <th rowspan=\"2\" valign=\"top\">BURGLARY</th>\n",
       "      <th>2018</th>\n",
       "      <td>11687</td>\n",
       "      <td>24634</td>\n",
       "    </tr>\n",
       "    <tr>\n",
       "      <th>2017</th>\n",
       "      <td>12947</td>\n",
       "      <td>24634</td>\n",
       "    </tr>\n",
       "    <tr>\n",
       "      <th rowspan=\"2\" valign=\"top\">NARCOTICS</th>\n",
       "      <th>2018</th>\n",
       "      <td>12798</td>\n",
       "      <td>24273</td>\n",
       "    </tr>\n",
       "    <tr>\n",
       "      <th>2017</th>\n",
       "      <td>11475</td>\n",
       "      <td>24273</td>\n",
       "    </tr>\n",
       "    <tr>\n",
       "      <th rowspan=\"2\" valign=\"top\">ROBBERY</th>\n",
       "      <th>2018</th>\n",
       "      <td>9680</td>\n",
       "      <td>21549</td>\n",
       "    </tr>\n",
       "    <tr>\n",
       "      <th>2017</th>\n",
       "      <td>11869</td>\n",
       "      <td>21549</td>\n",
       "    </tr>\n",
       "    <tr>\n",
       "      <th rowspan=\"2\" valign=\"top\">MOTOR VEHICLE THEFT</th>\n",
       "      <th>2018</th>\n",
       "      <td>9964</td>\n",
       "      <td>21331</td>\n",
       "    </tr>\n",
       "    <tr>\n",
       "      <th>2017</th>\n",
       "      <td>11367</td>\n",
       "      <td>21331</td>\n",
       "    </tr>\n",
       "    <tr>\n",
       "      <th rowspan=\"2\" valign=\"top\">CRIMINAL TRESPASS</th>\n",
       "      <th>2018</th>\n",
       "      <td>6881</td>\n",
       "      <td>13680</td>\n",
       "    </tr>\n",
       "    <tr>\n",
       "      <th>2017</th>\n",
       "      <td>6799</td>\n",
       "      <td>13680</td>\n",
       "    </tr>\n",
       "    <tr>\n",
       "      <th rowspan=\"2\" valign=\"top\">WEAPONS VIOLATION</th>\n",
       "      <th>2018</th>\n",
       "      <td>5444</td>\n",
       "      <td>10126</td>\n",
       "    </tr>\n",
       "    <tr>\n",
       "      <th>2017</th>\n",
       "      <td>4682</td>\n",
       "      <td>10126</td>\n",
       "    </tr>\n",
       "    <tr>\n",
       "      <th rowspan=\"2\" valign=\"top\">OFFENSE INVOLVING CHILDREN</th>\n",
       "      <th>2018</th>\n",
       "      <td>2176</td>\n",
       "      <td>4321</td>\n",
       "    </tr>\n",
       "    <tr>\n",
       "      <th>2017</th>\n",
       "      <td>2145</td>\n",
       "      <td>4321</td>\n",
       "    </tr>\n",
       "    <tr>\n",
       "      <th rowspan=\"2\" valign=\"top\">CRIM SEXUAL ASSAULT</th>\n",
       "      <th>2018</th>\n",
       "      <td>1589</td>\n",
       "      <td>3130</td>\n",
       "    </tr>\n",
       "    <tr>\n",
       "      <th>2017</th>\n",
       "      <td>1541</td>\n",
       "      <td>3130</td>\n",
       "    </tr>\n",
       "    <tr>\n",
       "      <th rowspan=\"2\" valign=\"top\">PUBLIC PEACE VIOLATION</th>\n",
       "      <th>2018</th>\n",
       "      <td>1362</td>\n",
       "      <td>2858</td>\n",
       "    </tr>\n",
       "    <tr>\n",
       "      <th>2017</th>\n",
       "      <td>1496</td>\n",
       "      <td>2858</td>\n",
       "    </tr>\n",
       "    <tr>\n",
       "      <th>...</th>\n",
       "      <th>...</th>\n",
       "      <td>...</td>\n",
       "      <td>...</td>\n",
       "    </tr>\n",
       "    <tr>\n",
       "      <th rowspan=\"2\" valign=\"top\">PROSTITUTION</th>\n",
       "      <th>2018</th>\n",
       "      <td>717</td>\n",
       "      <td>1451</td>\n",
       "    </tr>\n",
       "    <tr>\n",
       "      <th>2017</th>\n",
       "      <td>734</td>\n",
       "      <td>1451</td>\n",
       "    </tr>\n",
       "    <tr>\n",
       "      <th rowspan=\"2\" valign=\"top\">HOMICIDE</th>\n",
       "      <th>2018</th>\n",
       "      <td>586</td>\n",
       "      <td>1262</td>\n",
       "    </tr>\n",
       "    <tr>\n",
       "      <th>2017</th>\n",
       "      <td>676</td>\n",
       "      <td>1262</td>\n",
       "    </tr>\n",
       "    <tr>\n",
       "      <th rowspan=\"2\" valign=\"top\">ARSON</th>\n",
       "      <th>2018</th>\n",
       "      <td>372</td>\n",
       "      <td>816</td>\n",
       "    </tr>\n",
       "    <tr>\n",
       "      <th>2017</th>\n",
       "      <td>444</td>\n",
       "      <td>816</td>\n",
       "    </tr>\n",
       "    <tr>\n",
       "      <th rowspan=\"2\" valign=\"top\">LIQUOR LAW VIOLATION</th>\n",
       "      <th>2018</th>\n",
       "      <td>265</td>\n",
       "      <td>456</td>\n",
       "    </tr>\n",
       "    <tr>\n",
       "      <th>2017</th>\n",
       "      <td>191</td>\n",
       "      <td>456</td>\n",
       "    </tr>\n",
       "    <tr>\n",
       "      <th rowspan=\"2\" valign=\"top\">GAMBLING</th>\n",
       "      <th>2018</th>\n",
       "      <td>201</td>\n",
       "      <td>392</td>\n",
       "    </tr>\n",
       "    <tr>\n",
       "      <th>2017</th>\n",
       "      <td>191</td>\n",
       "      <td>392</td>\n",
       "    </tr>\n",
       "    <tr>\n",
       "      <th rowspan=\"2\" valign=\"top\">STALKING</th>\n",
       "      <th>2018</th>\n",
       "      <td>201</td>\n",
       "      <td>385</td>\n",
       "    </tr>\n",
       "    <tr>\n",
       "      <th>2017</th>\n",
       "      <td>184</td>\n",
       "      <td>385</td>\n",
       "    </tr>\n",
       "    <tr>\n",
       "      <th rowspan=\"2\" valign=\"top\">KIDNAPPING</th>\n",
       "      <th>2018</th>\n",
       "      <td>169</td>\n",
       "      <td>359</td>\n",
       "    </tr>\n",
       "    <tr>\n",
       "      <th>2017</th>\n",
       "      <td>190</td>\n",
       "      <td>359</td>\n",
       "    </tr>\n",
       "    <tr>\n",
       "      <th rowspan=\"2\" valign=\"top\">INTIMIDATION</th>\n",
       "      <th>2018</th>\n",
       "      <td>166</td>\n",
       "      <td>316</td>\n",
       "    </tr>\n",
       "    <tr>\n",
       "      <th>2017</th>\n",
       "      <td>150</td>\n",
       "      <td>316</td>\n",
       "    </tr>\n",
       "    <tr>\n",
       "      <th rowspan=\"2\" valign=\"top\">CONCEALED CARRY LICENSE VIOLATION</th>\n",
       "      <th>2018</th>\n",
       "      <td>148</td>\n",
       "      <td>217</td>\n",
       "    </tr>\n",
       "    <tr>\n",
       "      <th>2017</th>\n",
       "      <td>69</td>\n",
       "      <td>217</td>\n",
       "    </tr>\n",
       "    <tr>\n",
       "      <th rowspan=\"2\" valign=\"top\">OBSCENITY</th>\n",
       "      <th>2018</th>\n",
       "      <td>86</td>\n",
       "      <td>166</td>\n",
       "    </tr>\n",
       "    <tr>\n",
       "      <th>2017</th>\n",
       "      <td>80</td>\n",
       "      <td>166</td>\n",
       "    </tr>\n",
       "    <tr>\n",
       "      <th rowspan=\"2\" valign=\"top\">NON-CRIMINAL</th>\n",
       "      <th>2018</th>\n",
       "      <td>37</td>\n",
       "      <td>74</td>\n",
       "    </tr>\n",
       "    <tr>\n",
       "      <th>2017</th>\n",
       "      <td>37</td>\n",
       "      <td>74</td>\n",
       "    </tr>\n",
       "    <tr>\n",
       "      <th rowspan=\"2\" valign=\"top\">PUBLIC INDECENCY</th>\n",
       "      <th>2018</th>\n",
       "      <td>14</td>\n",
       "      <td>24</td>\n",
       "    </tr>\n",
       "    <tr>\n",
       "      <th>2017</th>\n",
       "      <td>10</td>\n",
       "      <td>24</td>\n",
       "    </tr>\n",
       "    <tr>\n",
       "      <th rowspan=\"2\" valign=\"top\">HUMAN TRAFFICKING</th>\n",
       "      <th>2018</th>\n",
       "      <td>14</td>\n",
       "      <td>22</td>\n",
       "    </tr>\n",
       "    <tr>\n",
       "      <th>2017</th>\n",
       "      <td>8</td>\n",
       "      <td>22</td>\n",
       "    </tr>\n",
       "    <tr>\n",
       "      <th rowspan=\"2\" valign=\"top\">OTHER NARCOTIC VIOLATION</th>\n",
       "      <th>2018</th>\n",
       "      <td>1</td>\n",
       "      <td>12</td>\n",
       "    </tr>\n",
       "    <tr>\n",
       "      <th>2017</th>\n",
       "      <td>11</td>\n",
       "      <td>12</td>\n",
       "    </tr>\n",
       "    <tr>\n",
       "      <th rowspan=\"2\" valign=\"top\">NON-CRIMINAL (SUBJECT SPECIFIED)</th>\n",
       "      <th>2018</th>\n",
       "      <td>3</td>\n",
       "      <td>5</td>\n",
       "    </tr>\n",
       "    <tr>\n",
       "      <th>2017</th>\n",
       "      <td>2</td>\n",
       "      <td>5</td>\n",
       "    </tr>\n",
       "  </tbody>\n",
       "</table>\n",
       "<p>64 rows × 2 columns</p>\n",
       "</div>"
      ],
      "text/plain": [
       "                                        Count   Total\n",
       "Primary Type                      Year               \n",
       "THEFT                             2018  64024  127610\n",
       "                                  2017  63586  127610\n",
       "BATTERY                           2018  49720   98857\n",
       "                                  2017  49137   98857\n",
       "CRIMINAL DAMAGE                   2018  27700   56655\n",
       "                                  2017  28955   56655\n",
       "ASSAULT                           2018  20342   39594\n",
       "                                  2017  19252   39594\n",
       "DECEPTIVE PRACTICE                2018  17863   35631\n",
       "                                  2017  17768   35631\n",
       "OTHER OFFENSE                     2018  16970   33935\n",
       "                                  2017  16965   33935\n",
       "BURGLARY                          2018  11687   24634\n",
       "                                  2017  12947   24634\n",
       "NARCOTICS                         2018  12798   24273\n",
       "                                  2017  11475   24273\n",
       "ROBBERY                           2018   9680   21549\n",
       "                                  2017  11869   21549\n",
       "MOTOR VEHICLE THEFT               2018   9964   21331\n",
       "                                  2017  11367   21331\n",
       "CRIMINAL TRESPASS                 2018   6881   13680\n",
       "                                  2017   6799   13680\n",
       "WEAPONS VIOLATION                 2018   5444   10126\n",
       "                                  2017   4682   10126\n",
       "OFFENSE INVOLVING CHILDREN        2018   2176    4321\n",
       "                                  2017   2145    4321\n",
       "CRIM SEXUAL ASSAULT               2018   1589    3130\n",
       "                                  2017   1541    3130\n",
       "PUBLIC PEACE VIOLATION            2018   1362    2858\n",
       "                                  2017   1496    2858\n",
       "...                                       ...     ...\n",
       "PROSTITUTION                      2018    717    1451\n",
       "                                  2017    734    1451\n",
       "HOMICIDE                          2018    586    1262\n",
       "                                  2017    676    1262\n",
       "ARSON                             2018    372     816\n",
       "                                  2017    444     816\n",
       "LIQUOR LAW VIOLATION              2018    265     456\n",
       "                                  2017    191     456\n",
       "GAMBLING                          2018    201     392\n",
       "                                  2017    191     392\n",
       "STALKING                          2018    201     385\n",
       "                                  2017    184     385\n",
       "KIDNAPPING                        2018    169     359\n",
       "                                  2017    190     359\n",
       "INTIMIDATION                      2018    166     316\n",
       "                                  2017    150     316\n",
       "CONCEALED CARRY LICENSE VIOLATION 2018    148     217\n",
       "                                  2017     69     217\n",
       "OBSCENITY                         2018     86     166\n",
       "                                  2017     80     166\n",
       "NON-CRIMINAL                      2018     37      74\n",
       "                                  2017     37      74\n",
       "PUBLIC INDECENCY                  2018     14      24\n",
       "                                  2017     10      24\n",
       "HUMAN TRAFFICKING                 2018     14      22\n",
       "                                  2017      8      22\n",
       "OTHER NARCOTIC VIOLATION          2018      1      12\n",
       "                                  2017     11      12\n",
       "NON-CRIMINAL (SUBJECT SPECIFIED)  2018      3       5\n",
       "                                  2017      2       5\n",
       "\n",
       "[64 rows x 2 columns]"
      ]
     },
     "execution_count": 6,
     "metadata": {},
     "output_type": "execute_result"
    }
   ],
   "source": [
    "type_cnt_df"
   ]
  },
  {
   "cell_type": "code",
   "execution_count": 8,
   "metadata": {},
   "outputs": [
    {
     "data": {
      "text/plain": [
       "Text(0, 0.5, 'Frequency')"
      ]
     },
     "execution_count": 8,
     "metadata": {},
     "output_type": "execute_result"
    },
    {
     "data": {
      "image/png": "[encoded data removed]",
      "text/plain": [
       "<Figure size 1296x720 with 1 Axes>"
      ]
     },
     "metadata": {
      "needs_background": "light"
     },
     "output_type": "display_data"
    }
   ],
   "source": [
    "# 5 Most Common Crimes in Chicago\n",
    "\n",
    "type_cnt_df[:10].Count.unstack().plot.bar(stacked=False, figsize=(18,10), rot=0)\n",
    "plt.title(\"5 Most Common Crimes in Chicago in 2017 and 2018\", fontsize=17)\n",
    "plt.xlabel(\"Crime Type\")\n",
    "plt.ylabel(\"Frequency\")"
   ]
  },
  {
   "cell_type": "markdown",
   "metadata": {},
   "source": [
    "2. How these crimes change over time:"
   ]
  },
  {
   "cell_type": "code",
   "execution_count": 9,
   "metadata": {},
   "outputs": [
    {
     "data": {
      "text/html": [
       "<div>\n",
       "<style scoped>\n",
       "    .dataframe tbody tr th:only-of-type {\n",
       "        vertical-align: middle;\n",
       "    }\n",
       "\n",
       "    .dataframe tbody tr th {\n",
       "        vertical-align: top;\n",
       "    }\n",
       "\n",
       "    .dataframe thead th {\n",
       "        text-align: right;\n",
       "    }\n",
       "</style>\n",
       "<table border=\"1\" class=\"dataframe\">\n",
       "  <thead>\n",
       "    <tr style=\"text-align: right;\">\n",
       "      <th></th>\n",
       "      <th>Count</th>\n",
       "    </tr>\n",
       "    <tr>\n",
       "      <th>Year</th>\n",
       "      <th></th>\n",
       "    </tr>\n",
       "  </thead>\n",
       "  <tbody>\n",
       "    <tr>\n",
       "      <th>2017</th>\n",
       "      <td>264983</td>\n",
       "    </tr>\n",
       "    <tr>\n",
       "      <th>2018</th>\n",
       "      <td>263546</td>\n",
       "    </tr>\n",
       "  </tbody>\n",
       "</table>\n",
       "</div>"
      ],
      "text/plain": [
       "       Count\n",
       "Year        \n",
       "2017  264983\n",
       "2018  263546"
      ]
     },
     "execution_count": 9,
     "metadata": {},
     "output_type": "execute_result"
    }
   ],
   "source": [
    "year_df = crime_df.groupby([\"Year\"]).size().to_frame(\"Count\")\n",
    "year_df"
   ]
  },
  {
   "cell_type": "code",
   "execution_count": 10,
   "metadata": {},
   "outputs": [
    {
     "data": {
      "text/plain": [
       "Text(0, 0.5, 'Frequency')"
      ]
     },
     "execution_count": 10,
     "metadata": {},
     "output_type": "execute_result"
    },
    {
     "data": {
      "image/png": "[encoded data removed]",
      "text/plain": [
       "<Figure size 432x288 with 1 Axes>"
      ]
     },
     "metadata": {
      "needs_background": "light"
     },
     "output_type": "display_data"
    }
   ],
   "source": [
    "year_df.plot(kind=\"bar\", legend=False, rot=0, ylim=(260000, 270000))\n",
    "plt.title(\"The Number of Crimes in Chicago by Year\", fontsize=15)\n",
    "plt.xlabel(\"Year\")\n",
    "plt.ylabel(\"Frequency\")"
   ]
  },
  {
   "cell_type": "markdown",
   "metadata": {},
   "source": [
    "3. How these crimes are different by neighborhood:"
   ]
  },
  {
   "cell_type": "code",
   "execution_count": 11,
   "metadata": {},
   "outputs": [],
   "source": [
    "neighbor_df = pd.concat([crime_df, pd.get_dummies(crime_df[\"Primary Type\"])], axis=1)\n",
    "variable_list = [\"Community Area\"] + list(neighbor_df[\"Primary Type\"].unique())"
   ]
  },
  {
   "cell_type": "code",
   "execution_count": 12,
   "metadata": {},
   "outputs": [
    {
     "data": {
      "image/png": "[encoded data removed]",
      "text/plain": [
       "<Figure size 3000x1500 with 2 Axes>"
      ]
     },
     "metadata": {
      "needs_background": "light"
     },
     "output_type": "display_data"
    }
   ],
   "source": [
    "# Create a correlation heatmap between different crime types and community area.\n",
    "corr = neighbor_df[variable_list].corr()\n",
    "fig = plt.figure(figsize=(30, 15), dpi=100) \n",
    "sns.heatmap(corr, fmt=\"g\", cmap=sns.diverging_palette(220, 10, as_cmap=True))\n",
    "plt.show()"
   ]
  },
  {
   "cell_type": "markdown",
   "metadata": {},
   "source": [
    "From this heatmap, it seems like community area is positively correlated with most of crime types."
   ]
  },
  {
   "cell_type": "code",
   "execution_count": 13,
   "metadata": {},
   "outputs": [
    {
     "data": {
      "text/plain": [
       "Text(0, 0.5, 'Frequency')"
      ]
     },
     "execution_count": 13,
     "metadata": {},
     "output_type": "execute_result"
    },
    {
     "data": {
      "image/png": "[encoded data removed]",
      "text/plain": [
       "<Figure size 1080x504 with 1 Axes>"
      ]
     },
     "metadata": {
      "needs_background": "light"
     },
     "output_type": "display_data"
    }
   ],
   "source": [
    "crime_df.groupby([\"Community Area\"]).size().plot(kind=\"bar\", figsize=(15, 7))\n",
    "plt.title(\"Crime Frequency by Community Area\", fontsize=15)\n",
    "plt.xlabel(\"Community Area\")\n",
    "plt.ylabel(\"Frequency\")"
   ]
  },
  {
   "cell_type": "markdown",
   "metadata": {},
   "source": [
    "Although there is no obvious pattern, some community areas definitely have more crimes than others, which supports the observation made from the heatmap."
   ]
  },
  {
   "cell_type": "markdown",
   "metadata": {},
   "source": [
    "__Data Augmentation and APIs__\n",
    "\n",
    "All of the crime data you just analyzed have a block address and lat/long fields. The task now is to augment that data with American Community Survey data. For each crime report, use one of the census APIs to get some additional data (at least 3-4 useful variables) about the block or zipcode where the crime report came from. This could include information about demographics of the block or zipcode (race, income, family size, etc.).\n",
    "\n",
    "Based on this augmented data, provide some descriptive statistics to describe:\n",
    "\n",
    "1. What types of blocks have reports of “Battery”?\n",
    "\n",
    "2. What types of blocks get “Homicide”?\n",
    "\n",
    "3. Does that change over time in the data you collected?\n",
    "\n",
    "4. What is the difference in blocks that get “Deceptive Practice” vs “Sex Offense”?"
   ]
  },
  {
   "cell_type": "markdown",
   "metadata": {},
   "source": [
    "Using Cenpy, I will get access to ACS 5-Year Dataset."
   ]
  },
  {
   "cell_type": "code",
   "execution_count": 14,
   "metadata": {},
   "outputs": [
    {
     "data": {
      "text/plain": [
       "{'ACS 5-Year Detailed Tables': 'The American Community Survey (ACS) is an ongoing survey that provides data every year -- giving communities the current information they need to plan investments and services. The ACS covers a broad range of topics about social, economic, demographic, and housing characteristics of the U.S. population.  Summary files include the following geographies: nation, all states (including DC and Puerto Rico), all metropolitan areas, all congressional districts (114th congress), all counties, all places, and all tracts and block groups.  Summary files contain the most detailed cross-tabulations, many of which are published down to block groups. The data are population and housing counts. There are over 64,000 variables in this dataset.'}"
      ]
     },
     "execution_count": 14,
     "metadata": {},
     "output_type": "execute_result"
    }
   ],
   "source": [
    "# 5-Year ACS Dataset for 2017\n",
    "dataset = \"ACSDT5Y2017\"\n",
    "c.explorer.explain(dataset)"
   ]
  },
  {
   "cell_type": "code",
   "execution_count": 15,
   "metadata": {},
   "outputs": [
    {
     "data": {
      "text/plain": [
       "Connection to ACS 5-Year Detailed Tables (ID: https://api.census.gov/data/id/ACSDT5Y2017)"
      ]
     },
     "execution_count": 15,
     "metadata": {},
     "output_type": "execute_result"
    }
   ],
   "source": [
    "# Connect to the dataset\n",
    "conn = c.base.Connection(\"ACSDT5Y2017\")\n",
    "conn"
   ]
  },
  {
   "cell_type": "markdown",
   "metadata": {},
   "source": [
    "I will be augmenting the crime dataset with block group-level data with:\n",
    "\n",
    "1. Median Household Income (B19013_001E)\n",
    "2. Educational Attainment\n",
    "3. Race, specifically race other than White (B02001_001E, B02001_002E)"
   ]
  },
  {
   "cell_type": "code",
   "execution_count": 36,
   "metadata": {},
   "outputs": [],
   "source": [
    "# Querying for Dataset\n",
    "\n",
    "variables = [\"B19013_001E\", \"B02001_001E\", \"B02001_002E\", \"B05001_001E\", \"B05001_006E\", \"B23006_001E\", \"B23006_023E\", \"GEO_ID\"]\n",
    "geo_unit = \"tract:*\"\n",
    "geo_filter = {\"state\": \"17\", \"county\": \"031\"}\n",
    "\n",
    "acs_df = conn.query(variables, geo_unit=geo_unit, geo_filter=geo_filter)\n",
    "acs_df.rename(columns={\"B19013_001E\":\"Income\", \"B02001_001E\":\"Total_race\", \"B02001_002E\": \"White_alone\", \"B05001_001E\": \"Total_citizen\", \"B05001_006E\": \"Not_citizen\", \"B23006_001E\": \"Total_edu\", \"B23006_023E\": \"Bach_above\"}, inplace=True)\n",
    "\n",
    "# Drop median income below 0 and fix the data type\n",
    "\n",
    "acs_df[\"Income\"] = acs_df[\"Income\"].astype(int)\n",
    "acs_df[\"Total_race\"] = acs_df[\"Total_race\"].astype(int)\n",
    "acs_df[\"White_alone\"] = acs_df[\"White_alone\"].astype(int)\n",
    "acs_df[\"Total_citizen\"] = acs_df[\"Total_citizen\"].astype(int)\n",
    "acs_df[\"Not_citizen\"] = acs_df[\"Not_citizen\"].astype(int)\n",
    "acs_df[\"Total_edu\"] = acs_df[\"Total_edu\"].astype(int)\n",
    "acs_df[\"Bach_above\"] = acs_df[\"Bach_above\"].astype(int)\n",
    "acs_df = acs_df[acs_df.Income > 0]"
   ]
  },
  {
   "cell_type": "code",
   "execution_count": 37,
   "metadata": {},
   "outputs": [
    {
     "data": {
      "text/html": [
       "<div>\n",
       "<style scoped>\n",
       "    .dataframe tbody tr th:only-of-type {\n",
       "        vertical-align: middle;\n",
       "    }\n",
       "\n",
       "    .dataframe tbody tr th {\n",
       "        vertical-align: top;\n",
       "    }\n",
       "\n",
       "    .dataframe thead th {\n",
       "        text-align: right;\n",
       "    }\n",
       "</style>\n",
       "<table border=\"1\" class=\"dataframe\">\n",
       "  <thead>\n",
       "    <tr style=\"text-align: right;\">\n",
       "      <th></th>\n",
       "      <th>Income</th>\n",
       "      <th>Total_race</th>\n",
       "      <th>White_alone</th>\n",
       "      <th>Total_citizen</th>\n",
       "      <th>Not_citizen</th>\n",
       "      <th>Total_edu</th>\n",
       "      <th>Bach_above</th>\n",
       "      <th>GEO_ID</th>\n",
       "      <th>state</th>\n",
       "      <th>county</th>\n",
       "      <th>tract</th>\n",
       "    </tr>\n",
       "  </thead>\n",
       "  <tbody>\n",
       "    <tr>\n",
       "      <th>0</th>\n",
       "      <td>84863</td>\n",
       "      <td>5541</td>\n",
       "      <td>5032</td>\n",
       "      <td>5541</td>\n",
       "      <td>126</td>\n",
       "      <td>3002</td>\n",
       "      <td>1059</td>\n",
       "      <td>1400000US17031561000</td>\n",
       "      <td>17</td>\n",
       "      <td>031</td>\n",
       "      <td>561000</td>\n",
       "    </tr>\n",
       "    <tr>\n",
       "      <th>1</th>\n",
       "      <td>57045</td>\n",
       "      <td>1600</td>\n",
       "      <td>1094</td>\n",
       "      <td>1600</td>\n",
       "      <td>144</td>\n",
       "      <td>965</td>\n",
       "      <td>147</td>\n",
       "      <td>1400000US17031640100</td>\n",
       "      <td>17</td>\n",
       "      <td>031</td>\n",
       "      <td>640100</td>\n",
       "    </tr>\n",
       "    <tr>\n",
       "      <th>2</th>\n",
       "      <td>44063</td>\n",
       "      <td>6464</td>\n",
       "      <td>2842</td>\n",
       "      <td>6464</td>\n",
       "      <td>2169</td>\n",
       "      <td>3122</td>\n",
       "      <td>91</td>\n",
       "      <td>1400000US17031630500</td>\n",
       "      <td>17</td>\n",
       "      <td>031</td>\n",
       "      <td>630500</td>\n",
       "    </tr>\n",
       "    <tr>\n",
       "      <th>3</th>\n",
       "      <td>24972</td>\n",
       "      <td>2307</td>\n",
       "      <td>1255</td>\n",
       "      <td>2307</td>\n",
       "      <td>738</td>\n",
       "      <td>1084</td>\n",
       "      <td>40</td>\n",
       "      <td>1400000US17031611100</td>\n",
       "      <td>17</td>\n",
       "      <td>031</td>\n",
       "      <td>611100</td>\n",
       "    </tr>\n",
       "    <tr>\n",
       "      <th>4</th>\n",
       "      <td>35016</td>\n",
       "      <td>3298</td>\n",
       "      <td>2012</td>\n",
       "      <td>3298</td>\n",
       "      <td>1132</td>\n",
       "      <td>1647</td>\n",
       "      <td>87</td>\n",
       "      <td>1400000US17031611400</td>\n",
       "      <td>17</td>\n",
       "      <td>031</td>\n",
       "      <td>611400</td>\n",
       "    </tr>\n",
       "  </tbody>\n",
       "</table>\n",
       "</div>"
      ],
      "text/plain": [
       "   Income  Total_race  White_alone  Total_citizen  Not_citizen  Total_edu  \\\n",
       "0   84863        5541         5032           5541          126       3002   \n",
       "1   57045        1600         1094           1600          144        965   \n",
       "2   44063        6464         2842           6464         2169       3122   \n",
       "3   24972        2307         1255           2307          738       1084   \n",
       "4   35016        3298         2012           3298         1132       1647   \n",
       "\n",
       "   Bach_above                GEO_ID state county   tract  \n",
       "0        1059  1400000US17031561000    17    031  561000  \n",
       "1         147  1400000US17031640100    17    031  640100  \n",
       "2          91  1400000US17031630500    17    031  630500  \n",
       "3          40  1400000US17031611100    17    031  611100  \n",
       "4          87  1400000US17031611400    17    031  611400  "
      ]
     },
     "execution_count": 37,
     "metadata": {},
     "output_type": "execute_result"
    }
   ],
   "source": [
    "acs_df.head()"
   ]
  },
  {
   "cell_type": "markdown",
   "metadata": {},
   "source": [
    "__Feature Engineering__"
   ]
  },
  {
   "cell_type": "code",
   "execution_count": 38,
   "metadata": {},
   "outputs": [
    {
     "data": {
      "text/html": [
       "<div>\n",
       "<style scoped>\n",
       "    .dataframe tbody tr th:only-of-type {\n",
       "        vertical-align: middle;\n",
       "    }\n",
       "\n",
       "    .dataframe tbody tr th {\n",
       "        vertical-align: top;\n",
       "    }\n",
       "\n",
       "    .dataframe thead th {\n",
       "        text-align: right;\n",
       "    }\n",
       "</style>\n",
       "<table border=\"1\" class=\"dataframe\">\n",
       "  <thead>\n",
       "    <tr style=\"text-align: right;\">\n",
       "      <th></th>\n",
       "      <th>Income</th>\n",
       "      <th>Total_race</th>\n",
       "      <th>White_alone</th>\n",
       "      <th>Total_citizen</th>\n",
       "      <th>Not_citizen</th>\n",
       "      <th>Total_edu</th>\n",
       "      <th>Bach_above</th>\n",
       "      <th>GEO_ID</th>\n",
       "      <th>state</th>\n",
       "      <th>county</th>\n",
       "      <th>tract</th>\n",
       "      <th>Race_other</th>\n",
       "      <th>Citizen</th>\n",
       "      <th>Low_edu</th>\n",
       "    </tr>\n",
       "  </thead>\n",
       "  <tbody>\n",
       "    <tr>\n",
       "      <th>0</th>\n",
       "      <td>84863</td>\n",
       "      <td>5541</td>\n",
       "      <td>5032</td>\n",
       "      <td>5541</td>\n",
       "      <td>126</td>\n",
       "      <td>3002</td>\n",
       "      <td>1059</td>\n",
       "      <td>1400000US17031561000</td>\n",
       "      <td>17</td>\n",
       "      <td>031</td>\n",
       "      <td>561000</td>\n",
       "      <td>0.091861</td>\n",
       "      <td>0.977260</td>\n",
       "      <td>0.647235</td>\n",
       "    </tr>\n",
       "    <tr>\n",
       "      <th>1</th>\n",
       "      <td>57045</td>\n",
       "      <td>1600</td>\n",
       "      <td>1094</td>\n",
       "      <td>1600</td>\n",
       "      <td>144</td>\n",
       "      <td>965</td>\n",
       "      <td>147</td>\n",
       "      <td>1400000US17031640100</td>\n",
       "      <td>17</td>\n",
       "      <td>031</td>\n",
       "      <td>640100</td>\n",
       "      <td>0.316250</td>\n",
       "      <td>0.910000</td>\n",
       "      <td>0.847668</td>\n",
       "    </tr>\n",
       "    <tr>\n",
       "      <th>2</th>\n",
       "      <td>44063</td>\n",
       "      <td>6464</td>\n",
       "      <td>2842</td>\n",
       "      <td>6464</td>\n",
       "      <td>2169</td>\n",
       "      <td>3122</td>\n",
       "      <td>91</td>\n",
       "      <td>1400000US17031630500</td>\n",
       "      <td>17</td>\n",
       "      <td>031</td>\n",
       "      <td>630500</td>\n",
       "      <td>0.560334</td>\n",
       "      <td>0.664449</td>\n",
       "      <td>0.970852</td>\n",
       "    </tr>\n",
       "    <tr>\n",
       "      <th>3</th>\n",
       "      <td>24972</td>\n",
       "      <td>2307</td>\n",
       "      <td>1255</td>\n",
       "      <td>2307</td>\n",
       "      <td>738</td>\n",
       "      <td>1084</td>\n",
       "      <td>40</td>\n",
       "      <td>1400000US17031611100</td>\n",
       "      <td>17</td>\n",
       "      <td>031</td>\n",
       "      <td>611100</td>\n",
       "      <td>0.456003</td>\n",
       "      <td>0.680104</td>\n",
       "      <td>0.963100</td>\n",
       "    </tr>\n",
       "    <tr>\n",
       "      <th>4</th>\n",
       "      <td>35016</td>\n",
       "      <td>3298</td>\n",
       "      <td>2012</td>\n",
       "      <td>3298</td>\n",
       "      <td>1132</td>\n",
       "      <td>1647</td>\n",
       "      <td>87</td>\n",
       "      <td>1400000US17031611400</td>\n",
       "      <td>17</td>\n",
       "      <td>031</td>\n",
       "      <td>611400</td>\n",
       "      <td>0.389933</td>\n",
       "      <td>0.656762</td>\n",
       "      <td>0.947177</td>\n",
       "    </tr>\n",
       "  </tbody>\n",
       "</table>\n",
       "</div>"
      ],
      "text/plain": [
       "   Income  Total_race  White_alone  Total_citizen  Not_citizen  Total_edu  \\\n",
       "0   84863        5541         5032           5541          126       3002   \n",
       "1   57045        1600         1094           1600          144        965   \n",
       "2   44063        6464         2842           6464         2169       3122   \n",
       "3   24972        2307         1255           2307          738       1084   \n",
       "4   35016        3298         2012           3298         1132       1647   \n",
       "\n",
       "   Bach_above                GEO_ID state county   tract  Race_other  \\\n",
       "0        1059  1400000US17031561000    17    031  561000    0.091861   \n",
       "1         147  1400000US17031640100    17    031  640100    0.316250   \n",
       "2          91  1400000US17031630500    17    031  630500    0.560334   \n",
       "3          40  1400000US17031611100    17    031  611100    0.456003   \n",
       "4          87  1400000US17031611400    17    031  611400    0.389933   \n",
       "\n",
       "    Citizen   Low_edu  \n",
       "0  0.977260  0.647235  \n",
       "1  0.910000  0.847668  \n",
       "2  0.664449  0.970852  \n",
       "3  0.680104  0.963100  \n",
       "4  0.656762  0.947177  "
      ]
     },
     "execution_count": 38,
     "metadata": {},
     "output_type": "execute_result"
    }
   ],
   "source": [
    "# Create features using the dataset\n",
    "acs_df[\"Race_other\"] = (acs_df[\"Total_race\"] - acs_df[\"White_alone\"])/acs_df[\"Total_race\"]\n",
    "acs_df[\"Citizen\"] = (acs_df[\"Total_citizen\"] - acs_df[\"Not_citizen\"])/acs_df[\"Total_citizen\"]\n",
    "acs_df[\"Low_edu\"] = (acs_df[\"Total_edu\"] - acs_df[\"Bach_above\"])/acs_df[\"Total_edu\"]\n",
    "\n",
    "acs_df.head()"
   ]
  },
  {
   "cell_type": "markdown",
   "metadata": {},
   "source": [
    "Since the Chicago Crime Dataset is based on blocks whereas the ACS dataset is based on block group, I need to spatial merge two datasets using the available spatial information."
   ]
  },
  {
   "cell_type": "code",
   "execution_count": 19,
   "metadata": {},
   "outputs": [],
   "source": [
    "conn.set_mapservice(\"tigerWMS_ACS2017\")\n",
    "acs_geodata = conn.mapservice.query(layer=8, where='STATE = 17')\n",
    "acs_geodata = acs_geodata[[\"TRACT\", \"geometry\"]]\n",
    "acs_geodata.rename(columns={\"TRACT\": \"tract\"}, inplace=True)"
   ]
  },
  {
   "cell_type": "code",
   "execution_count": 20,
   "metadata": {},
   "outputs": [
    {
     "data": {
      "text/html": [
       "<div>\n",
       "<style scoped>\n",
       "    .dataframe tbody tr th:only-of-type {\n",
       "        vertical-align: middle;\n",
       "    }\n",
       "\n",
       "    .dataframe tbody tr th {\n",
       "        vertical-align: top;\n",
       "    }\n",
       "\n",
       "    .dataframe thead th {\n",
       "        text-align: right;\n",
       "    }\n",
       "</style>\n",
       "<table border=\"1\" class=\"dataframe\">\n",
       "  <thead>\n",
       "    <tr style=\"text-align: right;\">\n",
       "      <th></th>\n",
       "      <th>tract</th>\n",
       "      <th>geometry</th>\n",
       "    </tr>\n",
       "  </thead>\n",
       "  <tbody>\n",
       "    <tr>\n",
       "      <th>0</th>\n",
       "      <td>002000</td>\n",
       "      <td>POLYGON ((-9904428.386399999 4847994.095700003...</td>\n",
       "    </tr>\n",
       "    <tr>\n",
       "      <th>1</th>\n",
       "      <td>807700</td>\n",
       "      <td>POLYGON ((-9770208.138699999 5164415.615199998...</td>\n",
       "    </tr>\n",
       "    <tr>\n",
       "      <th>2</th>\n",
       "      <td>807900</td>\n",
       "      <td>POLYGON ((-9769643.860200001 5161260.4639, -97...</td>\n",
       "    </tr>\n",
       "    <tr>\n",
       "      <th>3</th>\n",
       "      <td>809000</td>\n",
       "      <td>POLYGON ((-9765776.843699999 5169287.108499996...</td>\n",
       "    </tr>\n",
       "    <tr>\n",
       "      <th>4</th>\n",
       "      <td>870100</td>\n",
       "      <td>POLYGON ((-10106515.007 4983976.344999999, -10...</td>\n",
       "    </tr>\n",
       "  </tbody>\n",
       "</table>\n",
       "</div>"
      ],
      "text/plain": [
       "    tract                                           geometry\n",
       "0  002000  POLYGON ((-9904428.386399999 4847994.095700003...\n",
       "1  807700  POLYGON ((-9770208.138699999 5164415.615199998...\n",
       "2  807900  POLYGON ((-9769643.860200001 5161260.4639, -97...\n",
       "3  809000  POLYGON ((-9765776.843699999 5169287.108499996...\n",
       "4  870100  POLYGON ((-10106515.007 4983976.344999999, -10..."
      ]
     },
     "execution_count": 20,
     "metadata": {},
     "output_type": "execute_result"
    }
   ],
   "source": [
    "acs_geodata.head()"
   ]
  },
  {
   "cell_type": "code",
   "execution_count": 39,
   "metadata": {},
   "outputs": [],
   "source": [
    "# Merge acs_df and acs_geodata\n",
    "merged_acs_df = pd.merge(acs_df, acs_geodata, on=[\"tract\"])"
   ]
  },
  {
   "cell_type": "code",
   "execution_count": 40,
   "metadata": {},
   "outputs": [
    {
     "data": {
      "text/html": [
       "<div>\n",
       "<style scoped>\n",
       "    .dataframe tbody tr th:only-of-type {\n",
       "        vertical-align: middle;\n",
       "    }\n",
       "\n",
       "    .dataframe tbody tr th {\n",
       "        vertical-align: top;\n",
       "    }\n",
       "\n",
       "    .dataframe thead th {\n",
       "        text-align: right;\n",
       "    }\n",
       "</style>\n",
       "<table border=\"1\" class=\"dataframe\">\n",
       "  <thead>\n",
       "    <tr style=\"text-align: right;\">\n",
       "      <th></th>\n",
       "      <th>Income</th>\n",
       "      <th>Total_race</th>\n",
       "      <th>White_alone</th>\n",
       "      <th>Total_citizen</th>\n",
       "      <th>Not_citizen</th>\n",
       "      <th>Total_edu</th>\n",
       "      <th>Bach_above</th>\n",
       "      <th>GEO_ID</th>\n",
       "      <th>state</th>\n",
       "      <th>county</th>\n",
       "      <th>tract</th>\n",
       "      <th>Race_other</th>\n",
       "      <th>Citizen</th>\n",
       "      <th>Low_edu</th>\n",
       "      <th>geometry</th>\n",
       "    </tr>\n",
       "  </thead>\n",
       "  <tbody>\n",
       "    <tr>\n",
       "      <th>0</th>\n",
       "      <td>84863</td>\n",
       "      <td>5541</td>\n",
       "      <td>5032</td>\n",
       "      <td>5541</td>\n",
       "      <td>126</td>\n",
       "      <td>3002</td>\n",
       "      <td>1059</td>\n",
       "      <td>1400000US17031561000</td>\n",
       "      <td>17</td>\n",
       "      <td>031</td>\n",
       "      <td>561000</td>\n",
       "      <td>0.091861</td>\n",
       "      <td>0.977260</td>\n",
       "      <td>0.647235</td>\n",
       "      <td>POLYGON ((-9774021.387800001 5129863.688600004...</td>\n",
       "    </tr>\n",
       "    <tr>\n",
       "      <th>1</th>\n",
       "      <td>57045</td>\n",
       "      <td>1600</td>\n",
       "      <td>1094</td>\n",
       "      <td>1600</td>\n",
       "      <td>144</td>\n",
       "      <td>965</td>\n",
       "      <td>147</td>\n",
       "      <td>1400000US17031640100</td>\n",
       "      <td>17</td>\n",
       "      <td>031</td>\n",
       "      <td>640100</td>\n",
       "      <td>0.316250</td>\n",
       "      <td>0.910000</td>\n",
       "      <td>0.847668</td>\n",
       "      <td>POLYGON ((-9767444.9663 5128520.757799998, -97...</td>\n",
       "    </tr>\n",
       "    <tr>\n",
       "      <th>2</th>\n",
       "      <td>44063</td>\n",
       "      <td>6464</td>\n",
       "      <td>2842</td>\n",
       "      <td>6464</td>\n",
       "      <td>2169</td>\n",
       "      <td>3122</td>\n",
       "      <td>91</td>\n",
       "      <td>1400000US17031630500</td>\n",
       "      <td>17</td>\n",
       "      <td>031</td>\n",
       "      <td>630500</td>\n",
       "      <td>0.560334</td>\n",
       "      <td>0.664449</td>\n",
       "      <td>0.970852</td>\n",
       "      <td>POLYGON ((-9762051.4256 5131215.020900004, -97...</td>\n",
       "    </tr>\n",
       "    <tr>\n",
       "      <th>3</th>\n",
       "      <td>24972</td>\n",
       "      <td>2307</td>\n",
       "      <td>1255</td>\n",
       "      <td>2307</td>\n",
       "      <td>738</td>\n",
       "      <td>1084</td>\n",
       "      <td>40</td>\n",
       "      <td>1400000US17031611100</td>\n",
       "      <td>17</td>\n",
       "      <td>031</td>\n",
       "      <td>611100</td>\n",
       "      <td>0.456003</td>\n",
       "      <td>0.680104</td>\n",
       "      <td>0.963100</td>\n",
       "      <td>POLYGON ((-9758278.3628 5132361.9366, -9758251...</td>\n",
       "    </tr>\n",
       "    <tr>\n",
       "      <th>4</th>\n",
       "      <td>35016</td>\n",
       "      <td>3298</td>\n",
       "      <td>2012</td>\n",
       "      <td>3298</td>\n",
       "      <td>1132</td>\n",
       "      <td>1647</td>\n",
       "      <td>87</td>\n",
       "      <td>1400000US17031611400</td>\n",
       "      <td>17</td>\n",
       "      <td>031</td>\n",
       "      <td>611400</td>\n",
       "      <td>0.389933</td>\n",
       "      <td>0.656762</td>\n",
       "      <td>0.947177</td>\n",
       "      <td>POLYGON ((-9759901.5123 5132338.190499999, -97...</td>\n",
       "    </tr>\n",
       "  </tbody>\n",
       "</table>\n",
       "</div>"
      ],
      "text/plain": [
       "   Income  Total_race  White_alone  Total_citizen  Not_citizen  Total_edu  \\\n",
       "0   84863        5541         5032           5541          126       3002   \n",
       "1   57045        1600         1094           1600          144        965   \n",
       "2   44063        6464         2842           6464         2169       3122   \n",
       "3   24972        2307         1255           2307          738       1084   \n",
       "4   35016        3298         2012           3298         1132       1647   \n",
       "\n",
       "   Bach_above                GEO_ID state county   tract  Race_other  \\\n",
       "0        1059  1400000US17031561000    17    031  561000    0.091861   \n",
       "1         147  1400000US17031640100    17    031  640100    0.316250   \n",
       "2          91  1400000US17031630500    17    031  630500    0.560334   \n",
       "3          40  1400000US17031611100    17    031  611100    0.456003   \n",
       "4          87  1400000US17031611400    17    031  611400    0.389933   \n",
       "\n",
       "    Citizen   Low_edu                                           geometry  \n",
       "0  0.977260  0.647235  POLYGON ((-9774021.387800001 5129863.688600004...  \n",
       "1  0.910000  0.847668  POLYGON ((-9767444.9663 5128520.757799998, -97...  \n",
       "2  0.664449  0.970852  POLYGON ((-9762051.4256 5131215.020900004, -97...  \n",
       "3  0.680104  0.963100  POLYGON ((-9758278.3628 5132361.9366, -9758251...  \n",
       "4  0.656762  0.947177  POLYGON ((-9759901.5123 5132338.190499999, -97...  "
      ]
     },
     "execution_count": 40,
     "metadata": {},
     "output_type": "execute_result"
    }
   ],
   "source": [
    "merged_acs_df.head()"
   ]
  },
  {
   "cell_type": "markdown",
   "metadata": {},
   "source": [
    "However, because the spatial data for this merged dataset is in a different format as the Chicago Crime Dataset, I must first convert it before I can spatial join two datasets."
   ]
  },
  {
   "cell_type": "code",
   "execution_count": 41,
   "metadata": {},
   "outputs": [],
   "source": [
    "merged_acs_gdf = gpd.GeoDataFrame(merged_acs_df, geometry=\"geometry\")\n",
    "merged_acs_gdf.crs = {\"init\":\"epsg:3395\"}\n",
    "merged_acs_gdf = merged_acs_gdf.to_crs({\"init\":\"epsg:4326\"})"
   ]
  },
  {
   "cell_type": "code",
   "execution_count": 43,
   "metadata": {},
   "outputs": [],
   "source": [
    "# Spatial join Chicago Crime Dataset and ACS Dataset\n",
    "crime_bg_df = gpd.sjoin(crime_gdf, merged_acs_gdf, op=\"within\")\n",
    "crime_bg_df = crime_bg_df.reset_index()\n",
    "crime_bg_df = crime_bg_df[[\"Date\", \"Primary Type\", \"tract\", \"Year\", \"Income\", \"Race_other\", \"Citizen\", \"Low_edu\"]]\n",
    "crime_bg_df = crime_bg_df.dropna()\n",
    "crime_bg_df[\"Income\"] = crime_bg_df[\"Income\"].astype(int)\n",
    "crime_bg_df[\"Year\"] = crime_bg_df[\"Year\"].astype(int)\n",
    "crime_bg_df[\"tract\"] = crime_bg_df[\"tract\"].astype(int)"
   ]
  },
  {
   "cell_type": "code",
   "execution_count": 44,
   "metadata": {},
   "outputs": [
    {
     "data": {
      "text/html": [
       "<div>\n",
       "<style scoped>\n",
       "    .dataframe tbody tr th:only-of-type {\n",
       "        vertical-align: middle;\n",
       "    }\n",
       "\n",
       "    .dataframe tbody tr th {\n",
       "        vertical-align: top;\n",
       "    }\n",
       "\n",
       "    .dataframe thead th {\n",
       "        text-align: right;\n",
       "    }\n",
       "</style>\n",
       "<table border=\"1\" class=\"dataframe\">\n",
       "  <thead>\n",
       "    <tr style=\"text-align: right;\">\n",
       "      <th></th>\n",
       "      <th>Date</th>\n",
       "      <th>Primary Type</th>\n",
       "      <th>tract</th>\n",
       "      <th>Year</th>\n",
       "      <th>Income</th>\n",
       "      <th>Race_other</th>\n",
       "      <th>Citizen</th>\n",
       "      <th>Low_edu</th>\n",
       "    </tr>\n",
       "  </thead>\n",
       "  <tbody>\n",
       "    <tr>\n",
       "      <th>0</th>\n",
       "      <td>09/21/2017 12:15:00 AM</td>\n",
       "      <td>DECEPTIVE PRACTICE</td>\n",
       "      <td>580501</td>\n",
       "      <td>2017</td>\n",
       "      <td>39087</td>\n",
       "      <td>0.499283</td>\n",
       "      <td>0.675067</td>\n",
       "      <td>0.90847</td>\n",
       "    </tr>\n",
       "    <tr>\n",
       "      <th>1</th>\n",
       "      <td>01/10/2017 08:00:00 PM</td>\n",
       "      <td>INTIMIDATION</td>\n",
       "      <td>580501</td>\n",
       "      <td>2017</td>\n",
       "      <td>39087</td>\n",
       "      <td>0.499283</td>\n",
       "      <td>0.675067</td>\n",
       "      <td>0.90847</td>\n",
       "    </tr>\n",
       "    <tr>\n",
       "      <th>2</th>\n",
       "      <td>01/13/2017 11:00:00 AM</td>\n",
       "      <td>OTHER OFFENSE</td>\n",
       "      <td>580501</td>\n",
       "      <td>2017</td>\n",
       "      <td>39087</td>\n",
       "      <td>0.499283</td>\n",
       "      <td>0.675067</td>\n",
       "      <td>0.90847</td>\n",
       "    </tr>\n",
       "    <tr>\n",
       "      <th>3</th>\n",
       "      <td>01/17/2017 06:00:00 PM</td>\n",
       "      <td>BURGLARY</td>\n",
       "      <td>580501</td>\n",
       "      <td>2017</td>\n",
       "      <td>39087</td>\n",
       "      <td>0.499283</td>\n",
       "      <td>0.675067</td>\n",
       "      <td>0.90847</td>\n",
       "    </tr>\n",
       "    <tr>\n",
       "      <th>4</th>\n",
       "      <td>02/14/2017 12:30:00 PM</td>\n",
       "      <td>CRIMINAL DAMAGE</td>\n",
       "      <td>580501</td>\n",
       "      <td>2017</td>\n",
       "      <td>39087</td>\n",
       "      <td>0.499283</td>\n",
       "      <td>0.675067</td>\n",
       "      <td>0.90847</td>\n",
       "    </tr>\n",
       "  </tbody>\n",
       "</table>\n",
       "</div>"
      ],
      "text/plain": [
       "                     Date        Primary Type   tract  Year  Income  \\\n",
       "0  09/21/2017 12:15:00 AM  DECEPTIVE PRACTICE  580501  2017   39087   \n",
       "1  01/10/2017 08:00:00 PM        INTIMIDATION  580501  2017   39087   \n",
       "2  01/13/2017 11:00:00 AM       OTHER OFFENSE  580501  2017   39087   \n",
       "3  01/17/2017 06:00:00 PM            BURGLARY  580501  2017   39087   \n",
       "4  02/14/2017 12:30:00 PM     CRIMINAL DAMAGE  580501  2017   39087   \n",
       "\n",
       "   Race_other   Citizen  Low_edu  \n",
       "0    0.499283  0.675067  0.90847  \n",
       "1    0.499283  0.675067  0.90847  \n",
       "2    0.499283  0.675067  0.90847  \n",
       "3    0.499283  0.675067  0.90847  \n",
       "4    0.499283  0.675067  0.90847  "
      ]
     },
     "execution_count": 44,
     "metadata": {},
     "output_type": "execute_result"
    }
   ],
   "source": [
    "crime_bg_df.head()"
   ]
  },
  {
   "cell_type": "code",
   "execution_count": 45,
   "metadata": {},
   "outputs": [],
   "source": [
    "# Change the data type of \"Date\" for analysis\n",
    "crime_bg_df[\"Date\"] = crime_bg_df[\"Date\"].astype(\"datetime64[ns]\")"
   ]
  },
  {
   "cell_type": "markdown",
   "metadata": {},
   "source": [
    "1. What types of blocks have reports of “Battery”?\n",
    "2. What types of blocks get “Homicide”?"
   ]
  },
  {
   "cell_type": "code",
   "execution_count": 46,
   "metadata": {},
   "outputs": [
    {
     "data": {
      "text/html": [
       "<div>\n",
       "<style scoped>\n",
       "    .dataframe tbody tr th:only-of-type {\n",
       "        vertical-align: middle;\n",
       "    }\n",
       "\n",
       "    .dataframe tbody tr th {\n",
       "        vertical-align: top;\n",
       "    }\n",
       "\n",
       "    .dataframe thead th {\n",
       "        text-align: right;\n",
       "    }\n",
       "</style>\n",
       "<table border=\"1\" class=\"dataframe\">\n",
       "  <thead>\n",
       "    <tr style=\"text-align: right;\">\n",
       "      <th></th>\n",
       "      <th>tract</th>\n",
       "      <th>Year</th>\n",
       "      <th>Income</th>\n",
       "      <th>Race_other</th>\n",
       "      <th>Citizen</th>\n",
       "      <th>Low_edu</th>\n",
       "    </tr>\n",
       "  </thead>\n",
       "  <tbody>\n",
       "    <tr>\n",
       "      <th>count</th>\n",
       "      <td>523840.000000</td>\n",
       "      <td>523840.000000</td>\n",
       "      <td>523840.000000</td>\n",
       "      <td>523840.000000</td>\n",
       "      <td>523840.000000</td>\n",
       "      <td>523840.000000</td>\n",
       "    </tr>\n",
       "    <tr>\n",
       "      <th>mean</th>\n",
       "      <td>764297.994563</td>\n",
       "      <td>2017.498641</td>\n",
       "      <td>50772.763651</td>\n",
       "      <td>0.597621</td>\n",
       "      <td>0.950485</td>\n",
       "      <td>0.769296</td>\n",
       "    </tr>\n",
       "    <tr>\n",
       "      <th>std</th>\n",
       "      <td>105382.213674</td>\n",
       "      <td>0.499999</td>\n",
       "      <td>19816.979997</td>\n",
       "      <td>0.310104</td>\n",
       "      <td>0.062311</td>\n",
       "      <td>0.128320</td>\n",
       "    </tr>\n",
       "    <tr>\n",
       "      <th>min</th>\n",
       "      <td>490600.000000</td>\n",
       "      <td>2017.000000</td>\n",
       "      <td>12660.000000</td>\n",
       "      <td>0.005914</td>\n",
       "      <td>0.609947</td>\n",
       "      <td>0.133203</td>\n",
       "    </tr>\n",
       "    <tr>\n",
       "      <th>25%</th>\n",
       "      <td>730201.000000</td>\n",
       "      <td>2017.000000</td>\n",
       "      <td>36307.000000</td>\n",
       "      <td>0.319461</td>\n",
       "      <td>0.930352</td>\n",
       "      <td>0.700896</td>\n",
       "    </tr>\n",
       "    <tr>\n",
       "      <th>50%</th>\n",
       "      <td>823302.000000</td>\n",
       "      <td>2017.000000</td>\n",
       "      <td>48391.000000</td>\n",
       "      <td>0.583236</td>\n",
       "      <td>0.972450</td>\n",
       "      <td>0.801333</td>\n",
       "    </tr>\n",
       "    <tr>\n",
       "      <th>75%</th>\n",
       "      <td>827901.000000</td>\n",
       "      <td>2018.000000</td>\n",
       "      <td>61736.000000</td>\n",
       "      <td>0.907900</td>\n",
       "      <td>0.990907</td>\n",
       "      <td>0.855571</td>\n",
       "    </tr>\n",
       "    <tr>\n",
       "      <th>max</th>\n",
       "      <td>842800.000000</td>\n",
       "      <td>2018.000000</td>\n",
       "      <td>202727.000000</td>\n",
       "      <td>1.000000</td>\n",
       "      <td>1.000000</td>\n",
       "      <td>0.986092</td>\n",
       "    </tr>\n",
       "  </tbody>\n",
       "</table>\n",
       "</div>"
      ],
      "text/plain": [
       "               tract           Year         Income     Race_other  \\\n",
       "count  523840.000000  523840.000000  523840.000000  523840.000000   \n",
       "mean   764297.994563    2017.498641   50772.763651       0.597621   \n",
       "std    105382.213674       0.499999   19816.979997       0.310104   \n",
       "min    490600.000000    2017.000000   12660.000000       0.005914   \n",
       "25%    730201.000000    2017.000000   36307.000000       0.319461   \n",
       "50%    823302.000000    2017.000000   48391.000000       0.583236   \n",
       "75%    827901.000000    2018.000000   61736.000000       0.907900   \n",
       "max    842800.000000    2018.000000  202727.000000       1.000000   \n",
       "\n",
       "             Citizen        Low_edu  \n",
       "count  523840.000000  523840.000000  \n",
       "mean        0.950485       0.769296  \n",
       "std         0.062311       0.128320  \n",
       "min         0.609947       0.133203  \n",
       "25%         0.930352       0.700896  \n",
       "50%         0.972450       0.801333  \n",
       "75%         0.990907       0.855571  \n",
       "max         1.000000       0.986092  "
      ]
     },
     "execution_count": 46,
     "metadata": {},
     "output_type": "execute_result"
    }
   ],
   "source": [
    "crime_bg_df.describe()"
   ]
  },
  {
   "cell_type": "code",
   "execution_count": 48,
   "metadata": {},
   "outputs": [
    {
     "data": {
      "image/png": "[encoded data removed]",
      "text/plain": [
       "<Figure size 1200x400 with 2 Axes>"
      ]
     },
     "metadata": {
      "needs_background": "light"
     },
     "output_type": "display_data"
    }
   ],
   "source": [
    "crime_bg_df = pd.concat([crime_bg_df, pd.get_dummies(crime_bg_df[\"Primary Type\"])], axis=1)\n",
    "corr2 = crime_bg_df[[\"tract\", \"Income\", \"Race_other\", \"Citizen\", \"Low_edu\", \"BATTERY\", \"HOMICIDE\"]].corr()\n",
    "fig = plt.figure(figsize=(15, 5), dpi=80) \n",
    "sns.heatmap(corr2, annot=True, fmt=\".2f\", cmap=sns.diverging_palette(220, 10, as_cmap=True))\n",
    "plt.show()"
   ]
  },
  {
   "cell_type": "code",
   "execution_count": 64,
   "metadata": {},
   "outputs": [
    {
     "data": {
      "text/plain": [
       "<matplotlib.axes._subplots.AxesSubplot at 0x7f74162637b8>"
      ]
     },
     "execution_count": 64,
     "metadata": {},
     "output_type": "execute_result"
    },
    {
     "data": {
      "image/png": "[encoded data removed]",
      "text/plain": [
       "<Figure size 1080x504 with 1 Axes>"
      ]
     },
     "metadata": {
      "needs_background": "light"
     },
     "output_type": "display_data"
    }
   ],
   "source": [
    "bat_hom_df = crime_bg_df[(crime_bg_df[\"Primary Type\"] == \"SEX OFFENSE\")]\n",
    "#bat_hom_df.groupby([\"Primary Type\"]).mean()[\"Low_edu\"].plot(kind=\"bar\", figsize=(15, 5), rot=0)\n",
    "bat_hom_df.groupby(['Date', 'Primary Type']).size().unstack().plot(figsize=(15,7))"
   ]
  },
  {
   "cell_type": "code",
   "execution_count": 65,
   "metadata": {},
   "outputs": [
    {
     "name": "stderr",
     "output_type": "stream",
     "text": [
      "/home/siyoungbyun/anaconda3/envs/cca/lib/python3.6/site-packages/ipykernel_launcher.py:2: SettingWithCopyWarning: \n",
      "A value is trying to be set on a copy of a slice from a DataFrame.\n",
      "Try using .loc[row_indexer,col_indexer] = value instead\n",
      "\n",
      "See the caveats in the documentation: http://pandas.pydata.org/pandas-docs/stable/indexing.html#indexing-view-versus-copy\n",
      "  \n"
     ]
    },
    {
     "data": {
      "text/plain": [
       "<matplotlib.axes._subplots.AxesSubplot at 0x7f741570bb00>"
      ]
     },
     "execution_count": 65,
     "metadata": {},
     "output_type": "execute_result"
    },
    {
     "data": {
      "image/png": "[encoded data removed]",
      "text/plain": [
       "<Figure size 720x360 with 1 Axes>"
      ]
     },
     "metadata": {
      "needs_background": "light"
     },
     "output_type": "display_data"
    }
   ],
   "source": [
    "# create weekday column\n",
    "bat_hom_df['weekday'] = bat_hom_df['Date'].dt.dayofweek\n",
    "\n",
    "# visualize service requests by weekday\n",
    "bat_hom_df.groupby(['weekday', 'Primary Type']).size().unstack().plot(figsize=(10,5))"
   ]
  },
  {
   "cell_type": "code",
   "execution_count": null,
   "metadata": {},
   "outputs": [],
   "source": [
    "hom_df = pd.DataFrame(crime_bg_df[crime_bg_df[\"Primary Type\"] == \"HOMICIDE\"].groupby([\"GEO_ID\"]).mean()[\"Income\"])\n",
    "hom_df[\"Homicide Count\"] = crime_bg_df[crime_bg_df[\"Primary Type\"] == \"HOMICIDE\"].groupby([\"GEO_ID\"]).size()\n",
    "hom_df.plot(x=\"Income\", y=\"Homicide Count\", style='o', figsize=(15,7), logx=True)"
   ]
  },
  {
   "cell_type": "code",
   "execution_count": null,
   "metadata": {
    "scrolled": true
   },
   "outputs": [],
   "source": [
    "hom_df = pd.DataFrame(crime_bg_df[crime_bg_df[\"Primary Type\"] == \"DECEPTIVE PRACTICE\"].groupby([\"GEO_ID\"]).mean()[\"Income\"])\n",
    "hom_df[\"Homicide Count\"] = crime_bg_df[crime_bg_df[\"Primary Type\"] == \"DECEPTIVE PRACTICE\"].groupby([\"GEO_ID\"]).size()\n",
    "hom_df.plot(x=\"Income\", y=\"Homicide Count\", style='o', figsize=(15,7), ylim=(0, 100))"
   ]
  },
  {
   "cell_type": "code",
   "execution_count": null,
   "metadata": {},
   "outputs": [],
   "source": [
    "crime_bg_df.groupby(['Primary Type']).mean()['Income'].plot(kind='bar', figsize=(7, 7), rot=0)"
   ]
  },
  {
   "cell_type": "code",
   "execution_count": null,
   "metadata": {},
   "outputs": [],
   "source": [
    "corr_vars = list(crime_bg_df.columns)\n",
    "corr_vars.extend(['HOMICIDE', 'BATTERY', 'DECEPTIVE PRACTICE'])"
   ]
  },
  {
   "cell_type": "code",
   "execution_count": null,
   "metadata": {},
   "outputs": [],
   "source": [
    "crime_bg_df_t = pd.concat([crime_bg_df, pd.get_dummies(crime_bg_df['Primary Type'])], axis=1)\n",
    "corr = crime_bg_df_t[['GEO_ID', 'HOMICIDE', 'BATTERY', 'DECEPTIVE PRACTICE', 'SEX OFFENSE']].corr()\n",
    "fig = plt.figure(figsize=(12, 3), dpi=80) \n",
    "sns.heatmap(corr, annot=True, fmt='g', cmap=sns.diverging_palette(220, 10, as_cmap=True))\n",
    "plt.show()"
   ]
  },
  {
   "cell_type": "code",
   "execution_count": null,
   "metadata": {},
   "outputs": [],
   "source": [
    "crime_bg_df.head()"
   ]
  },
  {
   "cell_type": "code",
   "execution_count": null,
   "metadata": {},
   "outputs": [],
   "source": [
    "crime_bg_df.groupby(['Date', 'Primary Type']).size().unstack().plot(figsize = (15,7))"
   ]
  },
  {
   "cell_type": "code",
   "execution_count": null,
   "metadata": {
    "scrolled": true
   },
   "outputs": [],
   "source": [
    "crime_bg_df.groupby(['GEO_ID', 'Primary Type']).size().unstack().plot(kind='bar', stacked=True, figsize=(15,7))"
   ]
  },
  {
   "cell_type": "code",
   "execution_count": null,
   "metadata": {},
   "outputs": [],
   "source": [
    "hom_df = crime_bg_df[(crime_bg_df['Primary Type'] == \"HOMICIDE\") | (crime_bg_df['Primary Type'] == \"BATTERY\")]"
   ]
  },
  {
   "cell_type": "code",
   "execution_count": null,
   "metadata": {},
   "outputs": [],
   "source": [
    "# create weekday column\n",
    "hom_df['weekday'] = hom_df['Date'].dt.dayofweek\n",
    "\n",
    "# visualize service requests by weekday\n",
    "hom_df.groupby(['weekday', 'Primary Type']).size().unstack().plot(figsize=(10,5))"
   ]
  },
  {
   "cell_type": "code",
   "execution_count": null,
   "metadata": {},
   "outputs": [],
   "source": [
    "hom_df.groupby(['Date', 'Primary Type']).size().unstack().plot(figsize=(15,7))"
   ]
  },
  {
   "cell_type": "code",
   "execution_count": null,
   "metadata": {},
   "outputs": [],
   "source": []
  }
 ],
 "metadata": {
  "kernelspec": {
   "display_name": "Python 3",
   "language": "python",
   "name": "python3"
  },
  "language_info": {
   "codemirror_mode": {
    "name": "ipython",
    "version": 3
   },
   "file_extension": ".py",
   "mimetype": "text/x-python",
   "name": "python",
   "nbconvert_exporter": "python",
   "pygments_lexer": "ipython3",
   "version": "3.6.8"
  }
 },
 "nbformat": 4,
 "nbformat_minor": 2
}
